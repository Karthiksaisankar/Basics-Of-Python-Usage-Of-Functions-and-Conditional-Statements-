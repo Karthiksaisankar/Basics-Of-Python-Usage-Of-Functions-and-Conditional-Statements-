{
 "cells": [
  {
   "cell_type": "markdown",
   "metadata": {},
   "source": [
    "# <center>PGP Data Science Engineering</center>\n",
    "## <center>Introduction to Programming – Mini Project:</center>\n"
   ]
  },
  {
   "cell_type": "markdown",
   "metadata": {},
   "source": [
    "### Problem 1:\n",
    "\n",
    "1. Write a program to calculate area of shapes. Your program should be capable of calculating the area of a square, rectangle, triangle and a circle. The user should be presented with options to select the shape. Based on which shape is chosed by the user, the program should ask for the appropriate input and print the resulting area on the screen.\n",
    "\n",
    "When the program is run, the screen should display something like this:\n",
    "\n",
    "**Which shape would you like to calculate the area for? Please enter the option number-**<br>\n",
    "**1. Square**<br>\n",
    "**2. Rectangle**<br>\n",
    "**3. Triangle**<br>\n",
    "**4. Circle**<br>\n",
    "**Enter Option: _**\n",
    "\n",
    "Say the user enters the option 1.\n",
    "\n",
    "**Please enter the length of a side: _**\n",
    "\n",
    "If the user enters a value of 5. The output should be:\n",
    "\n",
    "**The area of the square is 25**\n",
    "\n",
    "This program should indicate that the input is invalid if the user enters a character instead of a number as input. For instance if the user enters a value of ‘a’ instead of 5 in the previous example the program should prompt:\n",
    "\n",
    "**Invalid input, please enter a number: _**\n"
   ]
  },
  {
   "cell_type": "code",
   "execution_count": 2,
   "metadata": {},
   "outputs": [
    {
     "name": "stdout",
     "output_type": "stream",
     "text": [
      "which shape would you like to calculate the area for, please enter the option number\n",
      "1.Square\n",
      "2.Rectangle\n",
      "3.Triangle\n",
      "4.Circle\n",
      "Enter Option:\n",
      "enter the option:2\n",
      "please enter the length of the rectangle:5\n",
      "please enter the breadth of the rectangle:4\n",
      "The area of the rectangle is: 20\n"
     ]
    }
   ],
   "source": [
    "print('which shape would you like to calculate the area for, please enter the option number',end='\\n')\n",
    "print('1.Square',end='\\n')\n",
    "print('2.Rectangle',end='\\n')\n",
    "print('3.Triangle',end='\\n')\n",
    "print('4.Circle',end='\\n')\n",
    "print('Enter Option:')\n",
    "option=int(input('enter the option:'))\n",
    "if option==1:\n",
    "    s=int(input('please enter the length of the side:'))\n",
    "    a=s**2\n",
    "    print(\"The area of square is:\",a)\n",
    "if option==2:\n",
    "    l=int(input('please enter the length of the rectangle:'))\n",
    "    b=int(input('please enter the breadth of the rectangle:'))\n",
    "    B=l*b\n",
    "    print(\"The area of the rectangle is:\",B)\n",
    "if option==3:\n",
    "    b=int(input('please enter the base of the traingle:'))\n",
    "    h=int(input('please enter the height of the traingle:'))\n",
    "    c=(0.5)*b*h\n",
    "    print(\"The area of the traingle is:\",c)\n",
    "if option==4:\n",
    "    r=int(input('please enter the radius of the circle:'))\n",
    "    d=3.14*r*r\n",
    "    print(\"The area of the circle is:\",d)\n",
    "if option==str:\n",
    "    print('invalid input, please enter a number')"
   ]
  },
  {
   "cell_type": "markdown",
   "metadata": {},
   "source": [
    "### Problem 2:\n",
    "\n",
    "Create and encrypter in python based on the ceaser cipher. It is a substitution cipher where each character of the original text is shifted a certain number characters in the alphabet. Write a function that would require 2 arguments – the input text to be encrypted and a key. For eg: Given the input text ‘hello’ and the key 3, the resulting encryted text would be ‘khoor’. Here you can see that every character in the string hello is shifted by 3 characters. ‘h’ has shifted to ‘k’, ‘e’ has shifted to ‘h’ and so on. If a key of 5 were used, the resulting string would be ‘mjqqt’. This function should be capable of ignoring any characters which are not alphabets. Th2 character ‘z’ entered b\n",
    "y the user for a key of 3 would result in ‘c’.\n",
    "\n",
    "Usage:<br>\n",
    "**encrypt(‘hello world!’, 3)**<br>\n",
    "**‘khoor zruog!’**\n",
    "\n",
    "Similarly create decrypter which can decode the encryted text when provided the input text and key\n",
    "\n",
    "Usage:<br>\n",
    "**decrypt(‘khoor zruog!’, 3)**<br>\n",
    "**‘hello world!’**\n",
    "\n",
    "For the sake of simplicity you can assume that input solely consists of lowercase alphabets, spaces and punctuation symbols. Numbers in the input text would also be ignored similar to symbols."
   ]
  },
  {
   "cell_type": "code",
   "execution_count": 8,
   "metadata": {},
   "outputs": [],
   "source": [
    "def encrypt(a,b):\n",
    "    List=[]\n",
    "    count=0\n",
    "    for i in a:\n",
    "        List.append(ord(i))\n",
    "    for i in List:\n",
    "        if (i>=65 and i<=90):\n",
    "            if((i+b)<=90):\n",
    "                List[count]=i+b\n",
    "            else:\n",
    "                List[count]=i+b-26\n",
    "        elif(i>=97 and i<=122):\n",
    "                if((i+b)<=122):\n",
    "                    List[count]=i+b\n",
    "                else:\n",
    "                    List[count]=i+b-26\n",
    "        count=count+1\n",
    "    for i in List:\n",
    "        print(chr(i),end=\"\")"
   ]
  },
  {
   "cell_type": "code",
   "execution_count": 10,
   "metadata": {},
   "outputs": [
    {
     "name": "stdout",
     "output_type": "stream",
     "text": [
      "khoor zruog!"
     ]
    }
   ],
   "source": [
    "encrypt(\"hello world!\", 3)"
   ]
  },
  {
   "cell_type": "code",
   "execution_count": 21,
   "metadata": {},
   "outputs": [],
   "source": [
    "def decrypt(a,b):\n",
    "    List=[]\n",
    "    count=0\n",
    "    for i in a:\n",
    "        List.append(ord(i))\n",
    "    for i in List:\n",
    "        if (i>=65 and i<=90):\n",
    "            if((i-b)<=90):\n",
    "                List[count]=i-b\n",
    "            else:\n",
    "                List[count]=i+b+26\n",
    "        elif(i>=97 and i<=122):\n",
    "                if((i-b)<=122):\n",
    "                    List[count]=i-b\n",
    "                else:\n",
    "                    List[count]=i+b+26\n",
    "        count=count+1\n",
    "    for i in List:\n",
    "        print(chr(i),end=\"\")"
   ]
  },
  {
   "cell_type": "code",
   "execution_count": 22,
   "metadata": {},
   "outputs": [
    {
     "name": "stdout",
     "output_type": "stream",
     "text": [
      "hello world!"
     ]
    }
   ],
   "source": [
    "decrypt(\"khoor zruog!\", 3)"
   ]
  },
  {
   "cell_type": "code",
   "execution_count": null,
   "metadata": {},
   "outputs": [],
   "source": []
  }
 ],
 "metadata": {
  "kernelspec": {
   "display_name": "Python 3",
   "language": "python",
   "name": "python3"
  },
  "language_info": {
   "codemirror_mode": {
    "name": "ipython",
    "version": 3
   },
   "file_extension": ".py",
   "mimetype": "text/x-python",
   "name": "python",
   "nbconvert_exporter": "python",
   "pygments_lexer": "ipython3",
   "version": "3.8.5"
  }
 },
 "nbformat": 4,
 "nbformat_minor": 2
}
